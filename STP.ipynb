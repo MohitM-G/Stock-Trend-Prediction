{
 "cells": [
  {
   "cell_type": "code",
   "execution_count": 5,
   "metadata": {},
   "outputs": [],
   "source": [
    "import pandas as pd\n",
    "import numpy as np\n",
    "import matplotlib.pyplot as plt\n",
    "import yfinance as yf"
   ]
  },
  {
   "cell_type": "code",
   "execution_count": 6,
   "metadata": {},
   "outputs": [
    {
     "name": "stderr",
     "output_type": "stream",
     "text": [
      "[*********************100%%**********************]  1 of 1 completed\n"
     ]
    },
    {
     "data": {
      "text/html": [
       "<div>\n",
       "<style scoped>\n",
       "    .dataframe tbody tr th:only-of-type {\n",
       "        vertical-align: middle;\n",
       "    }\n",
       "\n",
       "    .dataframe tbody tr th {\n",
       "        vertical-align: top;\n",
       "    }\n",
       "\n",
       "    .dataframe thead th {\n",
       "        text-align: right;\n",
       "    }\n",
       "</style>\n",
       "<table border=\"1\" class=\"dataframe\">\n",
       "  <thead>\n",
       "    <tr style=\"text-align: right;\">\n",
       "      <th></th>\n",
       "      <th>Open</th>\n",
       "      <th>High</th>\n",
       "      <th>Low</th>\n",
       "      <th>Close</th>\n",
       "      <th>Adj Close</th>\n",
       "      <th>Volume</th>\n",
       "    </tr>\n",
       "    <tr>\n",
       "      <th>Date</th>\n",
       "      <th></th>\n",
       "      <th></th>\n",
       "      <th></th>\n",
       "      <th></th>\n",
       "      <th></th>\n",
       "      <th></th>\n",
       "    </tr>\n",
       "  </thead>\n",
       "  <tbody>\n",
       "    <tr>\n",
       "      <th>2000-01-03</th>\n",
       "      <td>0.936384</td>\n",
       "      <td>1.004464</td>\n",
       "      <td>0.907924</td>\n",
       "      <td>0.999442</td>\n",
       "      <td>0.846127</td>\n",
       "      <td>535796800</td>\n",
       "    </tr>\n",
       "    <tr>\n",
       "      <th>2000-01-04</th>\n",
       "      <td>0.966518</td>\n",
       "      <td>0.987723</td>\n",
       "      <td>0.903460</td>\n",
       "      <td>0.915179</td>\n",
       "      <td>0.774790</td>\n",
       "      <td>512377600</td>\n",
       "    </tr>\n",
       "    <tr>\n",
       "      <th>2000-01-05</th>\n",
       "      <td>0.926339</td>\n",
       "      <td>0.987165</td>\n",
       "      <td>0.919643</td>\n",
       "      <td>0.928571</td>\n",
       "      <td>0.786128</td>\n",
       "      <td>778321600</td>\n",
       "    </tr>\n",
       "    <tr>\n",
       "      <th>2000-01-06</th>\n",
       "      <td>0.947545</td>\n",
       "      <td>0.955357</td>\n",
       "      <td>0.848214</td>\n",
       "      <td>0.848214</td>\n",
       "      <td>0.718098</td>\n",
       "      <td>767972800</td>\n",
       "    </tr>\n",
       "    <tr>\n",
       "      <th>2000-01-07</th>\n",
       "      <td>0.861607</td>\n",
       "      <td>0.901786</td>\n",
       "      <td>0.852679</td>\n",
       "      <td>0.888393</td>\n",
       "      <td>0.752113</td>\n",
       "      <td>460734400</td>\n",
       "    </tr>\n",
       "  </tbody>\n",
       "</table>\n",
       "</div>"
      ],
      "text/plain": [
       "                Open      High       Low     Close  Adj Close     Volume\n",
       "Date                                                                    \n",
       "2000-01-03  0.936384  1.004464  0.907924  0.999442   0.846127  535796800\n",
       "2000-01-04  0.966518  0.987723  0.903460  0.915179   0.774790  512377600\n",
       "2000-01-05  0.926339  0.987165  0.919643  0.928571   0.786128  778321600\n",
       "2000-01-06  0.947545  0.955357  0.848214  0.848214   0.718098  767972800\n",
       "2000-01-07  0.861607  0.901786  0.852679  0.888393   0.752113  460734400"
      ]
     },
     "execution_count": 6,
     "metadata": {},
     "output_type": "execute_result"
    }
   ],
   "source": [
    "start = '2000-01-01'\n",
    "end = '2023-12-31'\n",
    "\n",
    "df = yf.download(\"AAPL\", start, end)\n",
    "df.head()"
   ]
  },
  {
   "cell_type": "code",
   "execution_count": 7,
   "metadata": {},
   "outputs": [
    {
     "data": {
      "text/html": [
       "<div>\n",
       "<style scoped>\n",
       "    .dataframe tbody tr th:only-of-type {\n",
       "        vertical-align: middle;\n",
       "    }\n",
       "\n",
       "    .dataframe tbody tr th {\n",
       "        vertical-align: top;\n",
       "    }\n",
       "\n",
       "    .dataframe thead th {\n",
       "        text-align: right;\n",
       "    }\n",
       "</style>\n",
       "<table border=\"1\" class=\"dataframe\">\n",
       "  <thead>\n",
       "    <tr style=\"text-align: right;\">\n",
       "      <th></th>\n",
       "      <th>Open</th>\n",
       "      <th>High</th>\n",
       "      <th>Low</th>\n",
       "      <th>Close</th>\n",
       "      <th>Adj Close</th>\n",
       "      <th>Volume</th>\n",
       "    </tr>\n",
       "    <tr>\n",
       "      <th>Date</th>\n",
       "      <th></th>\n",
       "      <th></th>\n",
       "      <th></th>\n",
       "      <th></th>\n",
       "      <th></th>\n",
       "      <th></th>\n",
       "    </tr>\n",
       "  </thead>\n",
       "  <tbody>\n",
       "    <tr>\n",
       "      <th>2023-12-22</th>\n",
       "      <td>195.179993</td>\n",
       "      <td>195.410004</td>\n",
       "      <td>192.970001</td>\n",
       "      <td>193.600006</td>\n",
       "      <td>193.353287</td>\n",
       "      <td>37122800</td>\n",
       "    </tr>\n",
       "    <tr>\n",
       "      <th>2023-12-26</th>\n",
       "      <td>193.610001</td>\n",
       "      <td>193.889999</td>\n",
       "      <td>192.830002</td>\n",
       "      <td>193.050003</td>\n",
       "      <td>192.803986</td>\n",
       "      <td>28919300</td>\n",
       "    </tr>\n",
       "    <tr>\n",
       "      <th>2023-12-27</th>\n",
       "      <td>192.490005</td>\n",
       "      <td>193.500000</td>\n",
       "      <td>191.089996</td>\n",
       "      <td>193.149994</td>\n",
       "      <td>192.903839</td>\n",
       "      <td>48087700</td>\n",
       "    </tr>\n",
       "    <tr>\n",
       "      <th>2023-12-28</th>\n",
       "      <td>194.139999</td>\n",
       "      <td>194.660004</td>\n",
       "      <td>193.169998</td>\n",
       "      <td>193.580002</td>\n",
       "      <td>193.333298</td>\n",
       "      <td>34049900</td>\n",
       "    </tr>\n",
       "    <tr>\n",
       "      <th>2023-12-29</th>\n",
       "      <td>193.899994</td>\n",
       "      <td>194.399994</td>\n",
       "      <td>191.729996</td>\n",
       "      <td>192.529999</td>\n",
       "      <td>192.284637</td>\n",
       "      <td>42628800</td>\n",
       "    </tr>\n",
       "  </tbody>\n",
       "</table>\n",
       "</div>"
      ],
      "text/plain": [
       "                  Open        High  ...   Adj Close    Volume\n",
       "Date                                ...                      \n",
       "2023-12-22  195.179993  195.410004  ...  193.353287  37122800\n",
       "2023-12-26  193.610001  193.889999  ...  192.803986  28919300\n",
       "2023-12-27  192.490005  193.500000  ...  192.903839  48087700\n",
       "2023-12-28  194.139999  194.660004  ...  193.333298  34049900\n",
       "2023-12-29  193.899994  194.399994  ...  192.284637  42628800\n",
       "\n",
       "[5 rows x 6 columns]"
      ]
     },
     "execution_count": 7,
     "metadata": {},
     "output_type": "execute_result"
    }
   ],
   "source": [
    "df.tail()"
   ]
  },
  {
   "cell_type": "code",
   "execution_count": 8,
   "metadata": {},
   "outputs": [
    {
     "data": {
      "text/html": [
       "<div>\n",
       "<style scoped>\n",
       "    .dataframe tbody tr th:only-of-type {\n",
       "        vertical-align: middle;\n",
       "    }\n",
       "\n",
       "    .dataframe tbody tr th {\n",
       "        vertical-align: top;\n",
       "    }\n",
       "\n",
       "    .dataframe thead th {\n",
       "        text-align: right;\n",
       "    }\n",
       "</style>\n",
       "<table border=\"1\" class=\"dataframe\">\n",
       "  <thead>\n",
       "    <tr style=\"text-align: right;\">\n",
       "      <th></th>\n",
       "      <th>Date</th>\n",
       "      <th>Open</th>\n",
       "      <th>High</th>\n",
       "      <th>Low</th>\n",
       "      <th>Close</th>\n",
       "      <th>Adj Close</th>\n",
       "      <th>Volume</th>\n",
       "    </tr>\n",
       "  </thead>\n",
       "  <tbody>\n",
       "    <tr>\n",
       "      <th>0</th>\n",
       "      <td>2000-01-03</td>\n",
       "      <td>0.936384</td>\n",
       "      <td>1.004464</td>\n",
       "      <td>0.907924</td>\n",
       "      <td>0.999442</td>\n",
       "      <td>0.846127</td>\n",
       "      <td>535796800</td>\n",
       "    </tr>\n",
       "    <tr>\n",
       "      <th>1</th>\n",
       "      <td>2000-01-04</td>\n",
       "      <td>0.966518</td>\n",
       "      <td>0.987723</td>\n",
       "      <td>0.903460</td>\n",
       "      <td>0.915179</td>\n",
       "      <td>0.774790</td>\n",
       "      <td>512377600</td>\n",
       "    </tr>\n",
       "    <tr>\n",
       "      <th>2</th>\n",
       "      <td>2000-01-05</td>\n",
       "      <td>0.926339</td>\n",
       "      <td>0.987165</td>\n",
       "      <td>0.919643</td>\n",
       "      <td>0.928571</td>\n",
       "      <td>0.786128</td>\n",
       "      <td>778321600</td>\n",
       "    </tr>\n",
       "    <tr>\n",
       "      <th>3</th>\n",
       "      <td>2000-01-06</td>\n",
       "      <td>0.947545</td>\n",
       "      <td>0.955357</td>\n",
       "      <td>0.848214</td>\n",
       "      <td>0.848214</td>\n",
       "      <td>0.718098</td>\n",
       "      <td>767972800</td>\n",
       "    </tr>\n",
       "    <tr>\n",
       "      <th>4</th>\n",
       "      <td>2000-01-07</td>\n",
       "      <td>0.861607</td>\n",
       "      <td>0.901786</td>\n",
       "      <td>0.852679</td>\n",
       "      <td>0.888393</td>\n",
       "      <td>0.752113</td>\n",
       "      <td>460734400</td>\n",
       "    </tr>\n",
       "  </tbody>\n",
       "</table>\n",
       "</div>"
      ],
      "text/plain": [
       "        Date      Open      High       Low     Close  Adj Close     Volume\n",
       "0 2000-01-03  0.936384  1.004464  0.907924  0.999442   0.846127  535796800\n",
       "1 2000-01-04  0.966518  0.987723  0.903460  0.915179   0.774790  512377600\n",
       "2 2000-01-05  0.926339  0.987165  0.919643  0.928571   0.786128  778321600\n",
       "3 2000-01-06  0.947545  0.955357  0.848214  0.848214   0.718098  767972800\n",
       "4 2000-01-07  0.861607  0.901786  0.852679  0.888393   0.752113  460734400"
      ]
     },
     "execution_count": 8,
     "metadata": {},
     "output_type": "execute_result"
    }
   ],
   "source": [
    "df = df.reset_index()\n",
    "df.head()"
   ]
  },
  {
   "cell_type": "code",
   "execution_count": 9,
   "metadata": {},
   "outputs": [
    {
     "data": {
      "text/html": [
       "<div>\n",
       "<style scoped>\n",
       "    .dataframe tbody tr th:only-of-type {\n",
       "        vertical-align: middle;\n",
       "    }\n",
       "\n",
       "    .dataframe tbody tr th {\n",
       "        vertical-align: top;\n",
       "    }\n",
       "\n",
       "    .dataframe thead th {\n",
       "        text-align: right;\n",
       "    }\n",
       "</style>\n",
       "<table border=\"1\" class=\"dataframe\">\n",
       "  <thead>\n",
       "    <tr style=\"text-align: right;\">\n",
       "      <th></th>\n",
       "      <th>Open</th>\n",
       "      <th>High</th>\n",
       "      <th>Low</th>\n",
       "      <th>Close</th>\n",
       "      <th>Volume</th>\n",
       "    </tr>\n",
       "  </thead>\n",
       "  <tbody>\n",
       "    <tr>\n",
       "      <th>0</th>\n",
       "      <td>0.936384</td>\n",
       "      <td>1.004464</td>\n",
       "      <td>0.907924</td>\n",
       "      <td>0.999442</td>\n",
       "      <td>535796800</td>\n",
       "    </tr>\n",
       "    <tr>\n",
       "      <th>1</th>\n",
       "      <td>0.966518</td>\n",
       "      <td>0.987723</td>\n",
       "      <td>0.903460</td>\n",
       "      <td>0.915179</td>\n",
       "      <td>512377600</td>\n",
       "    </tr>\n",
       "    <tr>\n",
       "      <th>2</th>\n",
       "      <td>0.926339</td>\n",
       "      <td>0.987165</td>\n",
       "      <td>0.919643</td>\n",
       "      <td>0.928571</td>\n",
       "      <td>778321600</td>\n",
       "    </tr>\n",
       "    <tr>\n",
       "      <th>3</th>\n",
       "      <td>0.947545</td>\n",
       "      <td>0.955357</td>\n",
       "      <td>0.848214</td>\n",
       "      <td>0.848214</td>\n",
       "      <td>767972800</td>\n",
       "    </tr>\n",
       "    <tr>\n",
       "      <th>4</th>\n",
       "      <td>0.861607</td>\n",
       "      <td>0.901786</td>\n",
       "      <td>0.852679</td>\n",
       "      <td>0.888393</td>\n",
       "      <td>460734400</td>\n",
       "    </tr>\n",
       "  </tbody>\n",
       "</table>\n",
       "</div>"
      ],
      "text/plain": [
       "       Open      High       Low     Close     Volume\n",
       "0  0.936384  1.004464  0.907924  0.999442  535796800\n",
       "1  0.966518  0.987723  0.903460  0.915179  512377600\n",
       "2  0.926339  0.987165  0.919643  0.928571  778321600\n",
       "3  0.947545  0.955357  0.848214  0.848214  767972800\n",
       "4  0.861607  0.901786  0.852679  0.888393  460734400"
      ]
     },
     "execution_count": 9,
     "metadata": {},
     "output_type": "execute_result"
    }
   ],
   "source": [
    "df = df.drop(['Date', 'Adj Close'], axis=1)\n",
    "df.head()"
   ]
  },
  {
   "cell_type": "code",
   "execution_count": 10,
   "metadata": {},
   "outputs": [
    {
     "data": {
      "text/plain": [
       "[<matplotlib.lines.Line2D at 0x2c259148290>]"
      ]
     },
     "execution_count": 10,
     "metadata": {},
     "output_type": "execute_result"
    },
    {
     "data": {
      "image/png": "[encoded data removed]",
      "text/plain": [
       "<Figure size 640x480 with 1 Axes>"
      ]
     },
     "metadata": {},
     "output_type": "display_data"
    }
   ],
   "source": [
    "plt.plot(df.Close, 'b')"
   ]
  },
  {
   "cell_type": "code",
   "execution_count": 11,
   "metadata": {},
   "outputs": [
    {
     "data": {
      "text/html": [
       "<div>\n",
       "<style scoped>\n",
       "    .dataframe tbody tr th:only-of-type {\n",
       "        vertical-align: middle;\n",
       "    }\n",
       "\n",
       "    .dataframe tbody tr th {\n",
       "        vertical-align: top;\n",
       "    }\n",
       "\n",
       "    .dataframe thead th {\n",
       "        text-align: right;\n",
       "    }\n",
       "</style>\n",
       "<table border=\"1\" class=\"dataframe\">\n",
       "  <thead>\n",
       "    <tr style=\"text-align: right;\">\n",
       "      <th></th>\n",
       "      <th>Open</th>\n",
       "      <th>High</th>\n",
       "      <th>Low</th>\n",
       "      <th>Close</th>\n",
       "      <th>Volume</th>\n",
       "    </tr>\n",
       "  </thead>\n",
       "  <tbody>\n",
       "    <tr>\n",
       "      <th>0</th>\n",
       "      <td>0.936384</td>\n",
       "      <td>1.004464</td>\n",
       "      <td>0.907924</td>\n",
       "      <td>0.999442</td>\n",
       "      <td>535796800</td>\n",
       "    </tr>\n",
       "    <tr>\n",
       "      <th>1</th>\n",
       "      <td>0.966518</td>\n",
       "      <td>0.987723</td>\n",
       "      <td>0.903460</td>\n",
       "      <td>0.915179</td>\n",
       "      <td>512377600</td>\n",
       "    </tr>\n",
       "    <tr>\n",
       "      <th>2</th>\n",
       "      <td>0.926339</td>\n",
       "      <td>0.987165</td>\n",
       "      <td>0.919643</td>\n",
       "      <td>0.928571</td>\n",
       "      <td>778321600</td>\n",
       "    </tr>\n",
       "    <tr>\n",
       "      <th>3</th>\n",
       "      <td>0.947545</td>\n",
       "      <td>0.955357</td>\n",
       "      <td>0.848214</td>\n",
       "      <td>0.848214</td>\n",
       "      <td>767972800</td>\n",
       "    </tr>\n",
       "    <tr>\n",
       "      <th>4</th>\n",
       "      <td>0.861607</td>\n",
       "      <td>0.901786</td>\n",
       "      <td>0.852679</td>\n",
       "      <td>0.888393</td>\n",
       "      <td>460734400</td>\n",
       "    </tr>\n",
       "    <tr>\n",
       "      <th>...</th>\n",
       "      <td>...</td>\n",
       "      <td>...</td>\n",
       "      <td>...</td>\n",
       "      <td>...</td>\n",
       "      <td>...</td>\n",
       "    </tr>\n",
       "    <tr>\n",
       "      <th>6032</th>\n",
       "      <td>195.179993</td>\n",
       "      <td>195.410004</td>\n",
       "      <td>192.970001</td>\n",
       "      <td>193.600006</td>\n",
       "      <td>37122800</td>\n",
       "    </tr>\n",
       "    <tr>\n",
       "      <th>6033</th>\n",
       "      <td>193.610001</td>\n",
       "      <td>193.889999</td>\n",
       "      <td>192.830002</td>\n",
       "      <td>193.050003</td>\n",
       "      <td>28919300</td>\n",
       "    </tr>\n",
       "    <tr>\n",
       "      <th>6034</th>\n",
       "      <td>192.490005</td>\n",
       "      <td>193.500000</td>\n",
       "      <td>191.089996</td>\n",
       "      <td>193.149994</td>\n",
       "      <td>48087700</td>\n",
       "    </tr>\n",
       "    <tr>\n",
       "      <th>6035</th>\n",
       "      <td>194.139999</td>\n",
       "      <td>194.660004</td>\n",
       "      <td>193.169998</td>\n",
       "      <td>193.580002</td>\n",
       "      <td>34049900</td>\n",
       "    </tr>\n",
       "    <tr>\n",
       "      <th>6036</th>\n",
       "      <td>193.899994</td>\n",
       "      <td>194.399994</td>\n",
       "      <td>191.729996</td>\n",
       "      <td>192.529999</td>\n",
       "      <td>42628800</td>\n",
       "    </tr>\n",
       "  </tbody>\n",
       "</table>\n",
       "<p>6037 rows × 5 columns</p>\n",
       "</div>"
      ],
      "text/plain": [
       "            Open        High         Low       Close     Volume\n",
       "0       0.936384    1.004464    0.907924    0.999442  535796800\n",
       "1       0.966518    0.987723    0.903460    0.915179  512377600\n",
       "2       0.926339    0.987165    0.919643    0.928571  778321600\n",
       "3       0.947545    0.955357    0.848214    0.848214  767972800\n",
       "4       0.861607    0.901786    0.852679    0.888393  460734400\n",
       "...          ...         ...         ...         ...        ...\n",
       "6032  195.179993  195.410004  192.970001  193.600006   37122800\n",
       "6033  193.610001  193.889999  192.830002  193.050003   28919300\n",
       "6034  192.490005  193.500000  191.089996  193.149994   48087700\n",
       "6035  194.139999  194.660004  193.169998  193.580002   34049900\n",
       "6036  193.899994  194.399994  191.729996  192.529999   42628800\n",
       "\n",
       "[6037 rows x 5 columns]"
      ]
     },
     "execution_count": 11,
     "metadata": {},
     "output_type": "execute_result"
    }
   ],
   "source": [
    "df"
   ]
  },
  {
   "cell_type": "code",
   "execution_count": 12,
   "metadata": {},
   "outputs": [
    {
     "data": {
      "text/plain": [
       "0              NaN\n",
       "1              NaN\n",
       "2              NaN\n",
       "3              NaN\n",
       "4              NaN\n",
       "           ...    \n",
       "6032    181.768301\n",
       "6033    181.787101\n",
       "6034    181.898701\n",
       "6035    182.046001\n",
       "6036    182.173301\n",
       "Name: Close, Length: 6037, dtype: float64"
      ]
     },
     "execution_count": 12,
     "metadata": {},
     "output_type": "execute_result"
    }
   ],
   "source": [
    "ma100 = df.Close.rolling(100).mean()\n",
    "ma100"
   ]
  },
  {
   "cell_type": "code",
   "execution_count": 13,
   "metadata": {},
   "outputs": [
    {
     "data": {
      "image/png": "[encoded data removed]",
      "text/plain": [
       "<Figure size 1260x630 with 1 Axes>"
      ]
     },
     "metadata": {},
     "output_type": "display_data"
    }
   ],
   "source": [
    "plt.figure(figsize=(12.6, 6.3))  \n",
    "\n",
    "plt.plot(df.Close, 'b')\n",
    "plt.plot(ma100, 'r')\n",
    "\n",
    "plt.show()"
   ]
  },
  {
   "cell_type": "code",
   "execution_count": 14,
   "metadata": {},
   "outputs": [
    {
     "data": {
      "text/plain": [
       "0              NaN\n",
       "1              NaN\n",
       "2              NaN\n",
       "3              NaN\n",
       "4              NaN\n",
       "           ...    \n",
       "6032    178.649100\n",
       "6033    178.871851\n",
       "6034    179.085250\n",
       "6035    179.290201\n",
       "6036    179.487900\n",
       "Name: Close, Length: 6037, dtype: float64"
      ]
     },
     "execution_count": 14,
     "metadata": {},
     "output_type": "execute_result"
    }
   ],
   "source": [
    "ma200 = df.Close.rolling(200).mean()\n",
    "ma200"
   ]
  },
  {
   "cell_type": "code",
   "execution_count": 15,
   "metadata": {},
   "outputs": [
    {
     "data": {
      "image/png": "[encoded data removed]",
      "text/plain": [
       "<Figure size 1260x630 with 1 Axes>"
      ]
     },
     "metadata": {},
     "output_type": "display_data"
    }
   ],
   "source": [
    "plt.figure(figsize=(12.6, 6.3))  \n",
    "\n",
    "plt.plot(df.Close, 'b')\n",
    "plt.plot(ma100, 'r')\n",
    "plt.plot(ma200, 'g')\n",
    "\n",
    "plt.show()"
   ]
  },
  {
   "cell_type": "code",
   "execution_count": 16,
   "metadata": {},
   "outputs": [
    {
     "data": {
      "text/plain": [
       "(6037, 5)"
      ]
     },
     "execution_count": 16,
     "metadata": {},
     "output_type": "execute_result"
    }
   ],
   "source": [
    "df.shape"
   ]
  },
  {
   "cell_type": "markdown",
   "metadata": {},
   "source": [
    "# Splitting Data into Training and Testing"
   ]
  },
  {
   "cell_type": "code",
   "execution_count": 17,
   "metadata": {},
   "outputs": [
    {
     "name": "stdout",
     "output_type": "stream",
     "text": [
      "(4225, 1)\n",
      "(1812, 1)\n"
     ]
    }
   ],
   "source": [
    "data_training = pd.DataFrame(df['Close'][0:int(len(df)*0.7)])\n",
    "data_testing = pd.DataFrame(df['Close'][int(len(df)*0.7):int(len(df))])\n",
    "\n",
    "print(data_training.shape)\n",
    "print(data_testing.shape)                             "
   ]
  },
  {
   "cell_type": "code",
   "execution_count": 18,
   "metadata": {},
   "outputs": [
    {
     "data": {
      "text/html": [
       "<div>\n",
       "<style scoped>\n",
       "    .dataframe tbody tr th:only-of-type {\n",
       "        vertical-align: middle;\n",
       "    }\n",
       "\n",
       "    .dataframe tbody tr th {\n",
       "        vertical-align: top;\n",
       "    }\n",
       "\n",
       "    .dataframe thead th {\n",
       "        text-align: right;\n",
       "    }\n",
       "</style>\n",
       "<table border=\"1\" class=\"dataframe\">\n",
       "  <thead>\n",
       "    <tr style=\"text-align: right;\">\n",
       "      <th></th>\n",
       "      <th>Close</th>\n",
       "    </tr>\n",
       "  </thead>\n",
       "  <tbody>\n",
       "    <tr>\n",
       "      <th>0</th>\n",
       "      <td>0.999442</td>\n",
       "    </tr>\n",
       "    <tr>\n",
       "      <th>1</th>\n",
       "      <td>0.915179</td>\n",
       "    </tr>\n",
       "    <tr>\n",
       "      <th>2</th>\n",
       "      <td>0.928571</td>\n",
       "    </tr>\n",
       "    <tr>\n",
       "      <th>3</th>\n",
       "      <td>0.848214</td>\n",
       "    </tr>\n",
       "    <tr>\n",
       "      <th>4</th>\n",
       "      <td>0.888393</td>\n",
       "    </tr>\n",
       "  </tbody>\n",
       "</table>\n",
       "</div>"
      ],
      "text/plain": [
       "      Close\n",
       "0  0.999442\n",
       "1  0.915179\n",
       "2  0.928571\n",
       "3  0.848214\n",
       "4  0.888393"
      ]
     },
     "execution_count": 18,
     "metadata": {},
     "output_type": "execute_result"
    }
   ],
   "source": [
    "data_training.head()"
   ]
  },
  {
   "cell_type": "code",
   "execution_count": 19,
   "metadata": {},
   "outputs": [
    {
     "data": {
      "text/html": [
       "<div>\n",
       "<style scoped>\n",
       "    .dataframe tbody tr th:only-of-type {\n",
       "        vertical-align: middle;\n",
       "    }\n",
       "\n",
       "    .dataframe tbody tr th {\n",
       "        vertical-align: top;\n",
       "    }\n",
       "\n",
       "    .dataframe thead th {\n",
       "        text-align: right;\n",
       "    }\n",
       "</style>\n",
       "<table border=\"1\" class=\"dataframe\">\n",
       "  <thead>\n",
       "    <tr style=\"text-align: right;\">\n",
       "      <th></th>\n",
       "      <th>Close</th>\n",
       "    </tr>\n",
       "  </thead>\n",
       "  <tbody>\n",
       "    <tr>\n",
       "      <th>4225</th>\n",
       "      <td>29.367500</td>\n",
       "    </tr>\n",
       "    <tr>\n",
       "      <th>4226</th>\n",
       "      <td>29.280001</td>\n",
       "    </tr>\n",
       "    <tr>\n",
       "      <th>4227</th>\n",
       "      <td>29.264999</td>\n",
       "    </tr>\n",
       "    <tr>\n",
       "      <th>4228</th>\n",
       "      <td>29.150000</td>\n",
       "    </tr>\n",
       "    <tr>\n",
       "      <th>4229</th>\n",
       "      <td>29.412500</td>\n",
       "    </tr>\n",
       "  </tbody>\n",
       "</table>\n",
       "</div>"
      ],
      "text/plain": [
       "          Close\n",
       "4225  29.367500\n",
       "4226  29.280001\n",
       "4227  29.264999\n",
       "4228  29.150000\n",
       "4229  29.412500"
      ]
     },
     "execution_count": 19,
     "metadata": {},
     "output_type": "execute_result"
    }
   ],
   "source": [
    "data_testing.head()"
   ]
  },
  {
   "cell_type": "code",
   "execution_count": 20,
   "metadata": {},
   "outputs": [],
   "source": [
    "from sklearn.preprocessing import MinMaxScaler\n",
    "scaler = MinMaxScaler(feature_range=(0,1))"
   ]
  },
  {
   "cell_type": "code",
   "execution_count": 21,
   "metadata": {},
   "outputs": [
    {
     "data": {
      "text/plain": [
       "array([[0.02317551],\n",
       "       [0.0206233 ],\n",
       "       [0.02102893],\n",
       "       ...,\n",
       "       [0.87869415],\n",
       "       [0.88361601],\n",
       "       [0.88301028]])"
      ]
     },
     "execution_count": 21,
     "metadata": {},
     "output_type": "execute_result"
    }
   ],
   "source": [
    "data_training_array = scaler.fit_transform(data_training)\n",
    "data_training_array"
   ]
  },
  {
   "cell_type": "code",
   "execution_count": 22,
   "metadata": {},
   "outputs": [
    {
     "data": {
      "text/plain": [
       "(4225, 1)"
      ]
     },
     "execution_count": 22,
     "metadata": {},
     "output_type": "execute_result"
    }
   ],
   "source": [
    "data_training_array.shape"
   ]
  },
  {
   "cell_type": "code",
   "execution_count": 23,
   "metadata": {},
   "outputs": [],
   "source": [
    "x_train = []\n",
    "y_train = []\n",
    "\n",
    "for i in range(100, data_training_array.shape[0]):\n",
    "    x_train.append(data_training_array[i-100: i])\n",
    "    y_train.append(data_training_array[i, 0])\n",
    "    \n",
    "x_train, y_train = np.array(x_train), np.array(y_train)"
   ]
  },
  {
   "cell_type": "code",
   "execution_count": 25,
   "metadata": {},
   "outputs": [
    {
     "data": {
      "text/plain": [
       "(4125, 100, 1)"
      ]
     },
     "execution_count": 25,
     "metadata": {},
     "output_type": "execute_result"
    }
   ],
   "source": [
    "x_train.shape"
   ]
  },
  {
   "cell_type": "markdown",
   "metadata": {},
   "source": [
    "# ML Model"
   ]
  },
  {
   "cell_type": "code",
   "execution_count": 26,
   "metadata": {},
   "outputs": [],
   "source": [
    "from tensorflow.keras.layers import Dense, Dropout, LSTM\n",
    "from tensorflow.keras import Sequential"
   ]
  },
  {
   "cell_type": "code",
   "execution_count": 27,
   "metadata": {},
   "outputs": [
    {
     "name": "stdout",
     "output_type": "stream",
     "text": [
      "WARNING:tensorflow:From C:\\Users\\mohit\\AppData\\Local\\Packages\\PythonSoftwareFoundation.Python.3.11_qbz5n2kfra8p0\\LocalCache\\local-packages\\Python311\\site-packages\\keras\\src\\backend.py:873: The name tf.get_default_graph is deprecated. Please use tf.compat.v1.get_default_graph instead.\n",
      "\n"
     ]
    }
   ],
   "source": [
    "model = Sequential()\n",
    "model.add(LSTM(units = 50, activation = 'relu', return_sequences = True,\n",
    "               input_shape = (x_train.shape[1], 1)))\n",
    "model.add(Dropout(0.2))\n",
    "\n",
    "\n",
    "model.add(LSTM(units = 60, activation = 'relu', return_sequences = True))\n",
    "model.add(Dropout(0.3))\n",
    "\n",
    "\n",
    "model.add(LSTM(units = 80, activation = 'relu', return_sequences = True))\n",
    "model.add(Dropout(0.4))\n",
    "\n",
    "\n",
    "model.add(LSTM(units = 120, activation = 'relu'))\n",
    "model.add(Dropout(0.5))\n",
    "\n",
    "model.add(Dense(units = 1))"
   ]
  },
  {
   "cell_type": "code",
   "execution_count": 28,
   "metadata": {},
   "outputs": [
    {
     "name": "stdout",
     "output_type": "stream",
     "text": [
      "Model: \"sequential\"\n",
      "_________________________________________________________________\n",
      " Layer (type)                Output Shape              Param #   \n",
      "=================================================================\n",
      " lstm (LSTM)                 (None, 100, 50)           10400     \n",
      "                                                                 \n",
      " dropout (Dropout)           (None, 100, 50)           0         \n",
      "                                                                 \n",
      " lstm_1 (LSTM)               (None, 100, 60)           26640     \n",
      "                                                                 \n",
      " dropout_1 (Dropout)         (None, 100, 60)           0         \n",
      "                                                                 \n",
      " lstm_2 (LSTM)               (None, 100, 80)           45120     \n",
      "                                                                 \n",
      " dropout_2 (Dropout)         (None, 100, 80)           0         \n",
      "                                                                 \n",
      " lstm_3 (LSTM)               (None, 120)               96480     \n",
      "                                                                 \n",
      " dropout_3 (Dropout)         (None, 120)               0         \n",
      "                                                                 \n",
      " dense (Dense)               (None, 1)                 121       \n",
      "                                                                 \n",
      "=================================================================\n",
      "Total params: 178761 (698.29 KB)\n",
      "Trainable params: 178761 (698.29 KB)\n",
      "Non-trainable params: 0 (0.00 Byte)\n",
      "_________________________________________________________________\n"
     ]
    }
   ],
   "source": [
    "model.summary()"
   ]
  },
  {
   "cell_type": "code",
   "execution_count": 29,
   "metadata": {},
   "outputs": [
    {
     "name": "stdout",
     "output_type": "stream",
     "text": [
      "WARNING:tensorflow:From C:\\Users\\mohit\\AppData\\Local\\Packages\\PythonSoftwareFoundation.Python.3.11_qbz5n2kfra8p0\\LocalCache\\local-packages\\Python311\\site-packages\\keras\\src\\optimizers\\__init__.py:309: The name tf.train.Optimizer is deprecated. Please use tf.compat.v1.train.Optimizer instead.\n",
      "\n",
      "Epoch 1/50\n",
      "WARNING:tensorflow:From C:\\Users\\mohit\\AppData\\Local\\Packages\\PythonSoftwareFoundation.Python.3.11_qbz5n2kfra8p0\\LocalCache\\local-packages\\Python311\\site-packages\\keras\\src\\utils\\tf_utils.py:492: The name tf.ragged.RaggedTensorValue is deprecated. Please use tf.compat.v1.ragged.RaggedTensorValue instead.\n",
      "\n",
      "129/129 [==============================] - 28s 176ms/step - loss: 0.0190\n",
      "Epoch 2/50\n",
      "129/129 [==============================] - 19s 148ms/step - loss: 0.0051\n",
      "Epoch 3/50\n",
      "129/129 [==============================] - 19s 144ms/step - loss: 0.0046\n",
      "Epoch 4/50\n",
      "129/129 [==============================] - 19s 150ms/step - loss: 0.0043\n",
      "Epoch 5/50\n",
      "129/129 [==============================] - 20s 158ms/step - loss: 0.0039\n",
      "Epoch 6/50\n",
      "129/129 [==============================] - 18s 143ms/step - loss: 0.0035\n",
      "Epoch 7/50\n",
      "129/129 [==============================] - 19s 145ms/step - loss: 0.0035\n",
      "Epoch 8/50\n",
      "129/129 [==============================] - 20s 158ms/step - loss: 0.0032\n",
      "Epoch 9/50\n",
      "129/129 [==============================] - 19s 146ms/step - loss: 0.0033\n",
      "Epoch 10/50\n",
      "129/129 [==============================] - 20s 156ms/step - loss: 0.0029\n",
      "Epoch 11/50\n",
      "129/129 [==============================] - 19s 145ms/step - loss: 0.0034\n",
      "Epoch 12/50\n",
      "129/129 [==============================] - 22s 168ms/step - loss: 0.0028\n",
      "Epoch 13/50\n",
      "129/129 [==============================] - 19s 146ms/step - loss: 0.0028\n",
      "Epoch 14/50\n",
      "129/129 [==============================] - 20s 156ms/step - loss: 0.0027\n",
      "Epoch 15/50\n",
      "129/129 [==============================] - 19s 147ms/step - loss: 0.0024\n",
      "Epoch 16/50\n",
      "129/129 [==============================] - 18s 141ms/step - loss: 0.0024\n",
      "Epoch 17/50\n",
      "129/129 [==============================] - 18s 141ms/step - loss: 0.0025\n",
      "Epoch 18/50\n",
      "129/129 [==============================] - 18s 140ms/step - loss: 0.0025\n",
      "Epoch 19/50\n",
      "129/129 [==============================] - 18s 141ms/step - loss: 0.0025\n",
      "Epoch 20/50\n",
      "129/129 [==============================] - 18s 143ms/step - loss: 0.0024\n",
      "Epoch 21/50\n",
      "129/129 [==============================] - 19s 150ms/step - loss: 0.0024\n",
      "Epoch 22/50\n",
      "129/129 [==============================] - 21s 160ms/step - loss: 0.0025\n",
      "Epoch 23/50\n",
      "129/129 [==============================] - 21s 162ms/step - loss: 0.0026\n",
      "Epoch 24/50\n",
      "129/129 [==============================] - 19s 148ms/step - loss: 0.0025\n",
      "Epoch 25/50\n",
      "129/129 [==============================] - 31s 245ms/step - loss: 0.0024\n",
      "Epoch 26/50\n",
      "129/129 [==============================] - 31s 237ms/step - loss: 0.0024\n",
      "Epoch 27/50\n",
      "129/129 [==============================] - 31s 237ms/step - loss: 0.0024\n",
      "Epoch 28/50\n",
      "129/129 [==============================] - 30s 234ms/step - loss: 0.0025\n",
      "Epoch 29/50\n",
      "129/129 [==============================] - 33s 254ms/step - loss: 0.0023\n",
      "Epoch 30/50\n",
      "129/129 [==============================] - 33s 254ms/step - loss: 0.0022\n",
      "Epoch 31/50\n",
      "129/129 [==============================] - 33s 253ms/step - loss: 0.0023\n",
      "Epoch 32/50\n",
      "129/129 [==============================] - 33s 256ms/step - loss: 0.0023\n",
      "Epoch 33/50\n",
      "129/129 [==============================] - 32s 251ms/step - loss: 0.0023\n",
      "Epoch 34/50\n",
      "129/129 [==============================] - 33s 253ms/step - loss: 0.0024\n",
      "Epoch 35/50\n",
      "129/129 [==============================] - 33s 254ms/step - loss: 0.0023\n",
      "Epoch 36/50\n",
      "129/129 [==============================] - 32s 252ms/step - loss: 0.0021\n",
      "Epoch 37/50\n",
      "129/129 [==============================] - 32s 251ms/step - loss: 0.0024\n",
      "Epoch 38/50\n",
      "129/129 [==============================] - 33s 255ms/step - loss: 0.0023\n",
      "Epoch 39/50\n",
      "129/129 [==============================] - 33s 256ms/step - loss: 0.0023\n",
      "Epoch 40/50\n",
      "129/129 [==============================] - 33s 258ms/step - loss: 0.0022\n",
      "Epoch 41/50\n",
      "129/129 [==============================] - 33s 258ms/step - loss: 0.0024\n",
      "Epoch 42/50\n",
      "129/129 [==============================] - 33s 255ms/step - loss: 0.0023\n",
      "Epoch 43/50\n",
      "129/129 [==============================] - 33s 258ms/step - loss: 0.0023\n",
      "Epoch 44/50\n",
      "129/129 [==============================] - 33s 252ms/step - loss: 0.0023\n",
      "Epoch 45/50\n",
      "129/129 [==============================] - 32s 250ms/step - loss: 0.0022\n",
      "Epoch 46/50\n",
      "129/129 [==============================] - 32s 250ms/step - loss: 0.0023\n",
      "Epoch 47/50\n",
      "129/129 [==============================] - 32s 250ms/step - loss: 0.0022\n",
      "Epoch 48/50\n",
      "129/129 [==============================] - 34s 265ms/step - loss: 0.0021\n",
      "Epoch 49/50\n",
      "129/129 [==============================] - 33s 252ms/step - loss: 0.0023\n",
      "Epoch 50/50\n",
      "129/129 [==============================] - 32s 250ms/step - loss: 0.0021\n"
     ]
    },
    {
     "data": {
      "text/plain": [
       "<keras.src.callbacks.History at 0x2c259faea10>"
      ]
     },
     "execution_count": 29,
     "metadata": {},
     "output_type": "execute_result"
    }
   ],
   "source": [
    "model.compile(optimizer = 'adam', loss = 'mean_squared_error')\n",
    "model.fit(x_train, y_train, epochs = 50)"
   ]
  },
  {
   "cell_type": "code",
   "execution_count": null,
   "metadata": {},
   "outputs": [],
   "source": []
  }
 ],
 "metadata": {
  "kernelspec": {
   "display_name": "Python 3",
   "language": "python",
   "name": "python3"
  },
  "language_info": {
   "codemirror_mode": {
    "name": "ipython",
    "version": 3
   },
   "file_extension": ".py",
   "mimetype": "text/x-python",
   "name": "python",
   "nbconvert_exporter": "python",
   "pygments_lexer": "ipython3",
   "version": "3.11.undefined"
  }
 },
 "nbformat": 4,
 "nbformat_minor": 2
}
